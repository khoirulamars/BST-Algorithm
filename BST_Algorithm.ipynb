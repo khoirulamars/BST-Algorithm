{
  "cells": [
    {
      "cell_type": "code",
      "execution_count": null,
      "metadata": {
        "colab": {
          "base_uri": "https://localhost:8080/",
          "height": 354
        },
        "id": "V9FfAtuAruA6",
        "outputId": "bf7ae902-fd2f-4093-a491-1270bcfe90ea"
      },
      "outputs": [
        {
          "output_type": "execute_result",
          "data": {
            "text/plain": [
              "    Make       Model Vehicle Class  Engine Size(L)  Cylinders Transmission  \\\n",
              "0  ACURA         ILX       COMPACT             2.0          4          AS5   \n",
              "1  ACURA         ILX       COMPACT             2.4          4           M6   \n",
              "2  ACURA  ILX HYBRID       COMPACT             1.5          4          AV7   \n",
              "3  ACURA     MDX 4WD   SUV - SMALL             3.5          6          AS6   \n",
              "4  ACURA     RDX AWD   SUV - SMALL             3.5          6          AS6   \n",
              "\n",
              "  Fuel Type  Fuel Consumption City (L/100 km)  \\\n",
              "0         Z                               9.9   \n",
              "1         Z                              11.2   \n",
              "2         Z                               6.0   \n",
              "3         Z                              12.7   \n",
              "4         Z                              12.1   \n",
              "\n",
              "   Fuel Consumption Hwy (L/100 km)  Fuel Consumption Comb (L/100 km)  \\\n",
              "0                              6.7                               8.5   \n",
              "1                              7.7                               9.6   \n",
              "2                              5.8                               5.9   \n",
              "3                              9.1                              11.1   \n",
              "4                              8.7                              10.6   \n",
              "\n",
              "   Fuel Consumption Comb (mpg)  CO2 Emissions(g/km)  \n",
              "0                           33                  196  \n",
              "1                           29                  221  \n",
              "2                           48                  136  \n",
              "3                           25                  255  \n",
              "4                           27                  244  "
            ],
            "text/html": [
              "\n",
              "  <div id=\"df-02187080-f89a-4bce-8970-5a9d65f702b2\">\n",
              "    <div class=\"colab-df-container\">\n",
              "      <div>\n",
              "<style scoped>\n",
              "    .dataframe tbody tr th:only-of-type {\n",
              "        vertical-align: middle;\n",
              "    }\n",
              "\n",
              "    .dataframe tbody tr th {\n",
              "        vertical-align: top;\n",
              "    }\n",
              "\n",
              "    .dataframe thead th {\n",
              "        text-align: right;\n",
              "    }\n",
              "</style>\n",
              "<table border=\"1\" class=\"dataframe\">\n",
              "  <thead>\n",
              "    <tr style=\"text-align: right;\">\n",
              "      <th></th>\n",
              "      <th>Make</th>\n",
              "      <th>Model</th>\n",
              "      <th>Vehicle Class</th>\n",
              "      <th>Engine Size(L)</th>\n",
              "      <th>Cylinders</th>\n",
              "      <th>Transmission</th>\n",
              "      <th>Fuel Type</th>\n",
              "      <th>Fuel Consumption City (L/100 km)</th>\n",
              "      <th>Fuel Consumption Hwy (L/100 km)</th>\n",
              "      <th>Fuel Consumption Comb (L/100 km)</th>\n",
              "      <th>Fuel Consumption Comb (mpg)</th>\n",
              "      <th>CO2 Emissions(g/km)</th>\n",
              "    </tr>\n",
              "  </thead>\n",
              "  <tbody>\n",
              "    <tr>\n",
              "      <th>0</th>\n",
              "      <td>ACURA</td>\n",
              "      <td>ILX</td>\n",
              "      <td>COMPACT</td>\n",
              "      <td>2.0</td>\n",
              "      <td>4</td>\n",
              "      <td>AS5</td>\n",
              "      <td>Z</td>\n",
              "      <td>9.9</td>\n",
              "      <td>6.7</td>\n",
              "      <td>8.5</td>\n",
              "      <td>33</td>\n",
              "      <td>196</td>\n",
              "    </tr>\n",
              "    <tr>\n",
              "      <th>1</th>\n",
              "      <td>ACURA</td>\n",
              "      <td>ILX</td>\n",
              "      <td>COMPACT</td>\n",
              "      <td>2.4</td>\n",
              "      <td>4</td>\n",
              "      <td>M6</td>\n",
              "      <td>Z</td>\n",
              "      <td>11.2</td>\n",
              "      <td>7.7</td>\n",
              "      <td>9.6</td>\n",
              "      <td>29</td>\n",
              "      <td>221</td>\n",
              "    </tr>\n",
              "    <tr>\n",
              "      <th>2</th>\n",
              "      <td>ACURA</td>\n",
              "      <td>ILX HYBRID</td>\n",
              "      <td>COMPACT</td>\n",
              "      <td>1.5</td>\n",
              "      <td>4</td>\n",
              "      <td>AV7</td>\n",
              "      <td>Z</td>\n",
              "      <td>6.0</td>\n",
              "      <td>5.8</td>\n",
              "      <td>5.9</td>\n",
              "      <td>48</td>\n",
              "      <td>136</td>\n",
              "    </tr>\n",
              "    <tr>\n",
              "      <th>3</th>\n",
              "      <td>ACURA</td>\n",
              "      <td>MDX 4WD</td>\n",
              "      <td>SUV - SMALL</td>\n",
              "      <td>3.5</td>\n",
              "      <td>6</td>\n",
              "      <td>AS6</td>\n",
              "      <td>Z</td>\n",
              "      <td>12.7</td>\n",
              "      <td>9.1</td>\n",
              "      <td>11.1</td>\n",
              "      <td>25</td>\n",
              "      <td>255</td>\n",
              "    </tr>\n",
              "    <tr>\n",
              "      <th>4</th>\n",
              "      <td>ACURA</td>\n",
              "      <td>RDX AWD</td>\n",
              "      <td>SUV - SMALL</td>\n",
              "      <td>3.5</td>\n",
              "      <td>6</td>\n",
              "      <td>AS6</td>\n",
              "      <td>Z</td>\n",
              "      <td>12.1</td>\n",
              "      <td>8.7</td>\n",
              "      <td>10.6</td>\n",
              "      <td>27</td>\n",
              "      <td>244</td>\n",
              "    </tr>\n",
              "  </tbody>\n",
              "</table>\n",
              "</div>\n",
              "      <button class=\"colab-df-convert\" onclick=\"convertToInteractive('df-02187080-f89a-4bce-8970-5a9d65f702b2')\"\n",
              "              title=\"Convert this dataframe to an interactive table.\"\n",
              "              style=\"display:none;\">\n",
              "        \n",
              "  <svg xmlns=\"http://www.w3.org/2000/svg\" height=\"24px\"viewBox=\"0 0 24 24\"\n",
              "       width=\"24px\">\n",
              "    <path d=\"M0 0h24v24H0V0z\" fill=\"none\"/>\n",
              "    <path d=\"M18.56 5.44l.94 2.06.94-2.06 2.06-.94-2.06-.94-.94-2.06-.94 2.06-2.06.94zm-11 1L8.5 8.5l.94-2.06 2.06-.94-2.06-.94L8.5 2.5l-.94 2.06-2.06.94zm10 10l.94 2.06.94-2.06 2.06-.94-2.06-.94-.94-2.06-.94 2.06-2.06.94z\"/><path d=\"M17.41 7.96l-1.37-1.37c-.4-.4-.92-.59-1.43-.59-.52 0-1.04.2-1.43.59L10.3 9.45l-7.72 7.72c-.78.78-.78 2.05 0 2.83L4 21.41c.39.39.9.59 1.41.59.51 0 1.02-.2 1.41-.59l7.78-7.78 2.81-2.81c.8-.78.8-2.07 0-2.86zM5.41 20L4 18.59l7.72-7.72 1.47 1.35L5.41 20z\"/>\n",
              "  </svg>\n",
              "      </button>\n",
              "      \n",
              "  <style>\n",
              "    .colab-df-container {\n",
              "      display:flex;\n",
              "      flex-wrap:wrap;\n",
              "      gap: 12px;\n",
              "    }\n",
              "\n",
              "    .colab-df-convert {\n",
              "      background-color: #E8F0FE;\n",
              "      border: none;\n",
              "      border-radius: 50%;\n",
              "      cursor: pointer;\n",
              "      display: none;\n",
              "      fill: #1967D2;\n",
              "      height: 32px;\n",
              "      padding: 0 0 0 0;\n",
              "      width: 32px;\n",
              "    }\n",
              "\n",
              "    .colab-df-convert:hover {\n",
              "      background-color: #E2EBFA;\n",
              "      box-shadow: 0px 1px 2px rgba(60, 64, 67, 0.3), 0px 1px 3px 1px rgba(60, 64, 67, 0.15);\n",
              "      fill: #174EA6;\n",
              "    }\n",
              "\n",
              "    [theme=dark] .colab-df-convert {\n",
              "      background-color: #3B4455;\n",
              "      fill: #D2E3FC;\n",
              "    }\n",
              "\n",
              "    [theme=dark] .colab-df-convert:hover {\n",
              "      background-color: #434B5C;\n",
              "      box-shadow: 0px 1px 3px 1px rgba(0, 0, 0, 0.15);\n",
              "      filter: drop-shadow(0px 1px 2px rgba(0, 0, 0, 0.3));\n",
              "      fill: #FFFFFF;\n",
              "    }\n",
              "  </style>\n",
              "\n",
              "      <script>\n",
              "        const buttonEl =\n",
              "          document.querySelector('#df-02187080-f89a-4bce-8970-5a9d65f702b2 button.colab-df-convert');\n",
              "        buttonEl.style.display =\n",
              "          google.colab.kernel.accessAllowed ? 'block' : 'none';\n",
              "\n",
              "        async function convertToInteractive(key) {\n",
              "          const element = document.querySelector('#df-02187080-f89a-4bce-8970-5a9d65f702b2');\n",
              "          const dataTable =\n",
              "            await google.colab.kernel.invokeFunction('convertToInteractive',\n",
              "                                                     [key], {});\n",
              "          if (!dataTable) return;\n",
              "\n",
              "          const docLinkHtml = 'Like what you see? Visit the ' +\n",
              "            '<a target=\"_blank\" href=https://colab.research.google.com/notebooks/data_table.ipynb>data table notebook</a>'\n",
              "            + ' to learn more about interactive tables.';\n",
              "          element.innerHTML = '';\n",
              "          dataTable['output_type'] = 'display_data';\n",
              "          await google.colab.output.renderOutput(dataTable, element);\n",
              "          const docLink = document.createElement('div');\n",
              "          docLink.innerHTML = docLinkHtml;\n",
              "          element.appendChild(docLink);\n",
              "        }\n",
              "      </script>\n",
              "    </div>\n",
              "  </div>\n",
              "  "
            ]
          },
          "metadata": {},
          "execution_count": 1
        }
      ],
      "source": [
        "import pandas as pd\n",
        "df = pd.read_csv(\"CO2 Emissions_Canada.csv\")\n",
        "df.head()"
      ]
    },
    {
      "cell_type": "code",
      "execution_count": null,
      "metadata": {
        "colab": {
          "base_uri": "https://localhost:8080/"
        },
        "id": "CJt-xDIpruA7",
        "outputId": "f2e1e2b5-b138-4719-8ce8-09c528b69f85"
      },
      "outputs": [
        {
          "output_type": "stream",
          "name": "stdout",
          "text": [
            "<class 'pandas.core.frame.DataFrame'>\n",
            "RangeIndex: 7385 entries, 0 to 7384\n",
            "Data columns (total 12 columns):\n",
            " #   Column                            Non-Null Count  Dtype  \n",
            "---  ------                            --------------  -----  \n",
            " 0   Make                              7385 non-null   object \n",
            " 1   Model                             7385 non-null   object \n",
            " 2   Vehicle Class                     7385 non-null   object \n",
            " 3   Engine Size(L)                    7385 non-null   float64\n",
            " 4   Cylinders                         7385 non-null   int64  \n",
            " 5   Transmission                      7385 non-null   object \n",
            " 6   Fuel Type                         7385 non-null   object \n",
            " 7   Fuel Consumption City (L/100 km)  7385 non-null   float64\n",
            " 8   Fuel Consumption Hwy (L/100 km)   7385 non-null   float64\n",
            " 9   Fuel Consumption Comb (L/100 km)  7385 non-null   float64\n",
            " 10  Fuel Consumption Comb (mpg)       7385 non-null   int64  \n",
            " 11  CO2 Emissions(g/km)               7385 non-null   int64  \n",
            "dtypes: float64(4), int64(3), object(5)\n",
            "memory usage: 692.5+ KB\n"
          ]
        }
      ],
      "source": [
        "df.info()"
      ]
    },
    {
      "cell_type": "code",
      "execution_count": null,
      "metadata": {
        "colab": {
          "base_uri": "https://localhost:8080/"
        },
        "id": "aci56jg-ruA8",
        "outputId": "0e1167a4-60ae-41e0-bf8e-249f702ee01d"
      },
      "outputs": [
        {
          "output_type": "execute_result",
          "data": {
            "text/plain": [
              "Make                                0\n",
              "Model                               0\n",
              "Vehicle Class                       0\n",
              "Engine Size(L)                      0\n",
              "Cylinders                           0\n",
              "Transmission                        0\n",
              "Fuel Type                           0\n",
              "Fuel Consumption City (L/100 km)    0\n",
              "Fuel Consumption Hwy (L/100 km)     0\n",
              "Fuel Consumption Comb (L/100 km)    0\n",
              "Fuel Consumption Comb (mpg)         0\n",
              "CO2 Emissions(g/km)                 0\n",
              "dtype: int64"
            ]
          },
          "metadata": {},
          "execution_count": 3
        }
      ],
      "source": [
        "df.isna().sum()"
      ]
    },
    {
      "cell_type": "code",
      "execution_count": null,
      "metadata": {
        "id": "U4rWXr8oruA9",
        "colab": {
          "base_uri": "https://localhost:8080/"
        },
        "outputId": "b5fd7c39-4e80-4d23-d710-08fb1ab9681a"
      },
      "outputs": [
        {
          "output_type": "execute_result",
          "data": {
            "text/plain": [
              "array([196, 221, 136, 255, 244, 230, 232, 267, 212, 225, 239, 193, 359,\n",
              "       338, 354, 202, 214, 235, 251, 217, 262, 258, 265, 224, 288, 363,\n",
              "       242, 304, 290, 336, 407, 347, 409, 306, 308, 293, 285, 281, 300,\n",
              "       292, 209, 237, 314, 356, 332, 380, 388, 437, 200, 181, 228, 213,\n",
              "       246, 191, 317, 260, 253, 320, 370, 274, 324, 278, 283, 264, 250,\n",
              "       189, 218, 207, 248, 294, 382, 340, 322, 377, 271, 269, 276, 179,\n",
              "       192, 177, 163, 259, 272, 366, 334, 344, 362, 414, 432, 411, 419,\n",
              "       435, 413, 229, 184, 270, 299, 277, 329, 173, 182, 172, 159, 186,\n",
              "       222, 301, 198, 195, 168, 331, 166, 156, 138, 373, 350, 396, 360,\n",
              "       386, 368, 488, 421, 216, 346, 254, 402, 315, 343, 318, 175, 152,\n",
              "       161, 205, 165, 170, 162, 126, 297, 110, 145, 143, 345, 280, 310,\n",
              "       223, 147, 361, 400, 342, 129, 352, 194, 256, 327, 398, 313, 326,\n",
              "       358, 286, 275, 393, 389, 131, 108, 384, 208, 124, 180, 296, 140,\n",
              "       379, 307, 337, 238, 357, 227, 416, 418, 282, 226, 174, 219, 115,\n",
              "       120, 287, 206, 412, 453, 423, 133, 426, 375, 273, 150, 183, 178,\n",
              "       176, 122, 185, 249, 197, 365, 390, 204, 201, 211, 247, 240, 257,\n",
              "       266, 263, 408, 231, 241, 210, 245, 284, 321, 215, 233, 323, 199,\n",
              "       268, 252, 289, 325, 302, 261, 220, 279, 335, 167, 160, 190, 236,\n",
              "       441, 465, 298, 328, 295, 188, 187, 157, 312, 243, 339, 353, 171,\n",
              "       364, 203, 305, 303, 309, 341, 153, 130, 234, 291, 155, 169, 158,\n",
              "       311, 420, 452, 132, 139, 371, 417, 476, 369, 355, 401, 348, 319,\n",
              "       330, 403, 404, 367, 134, 137, 104, 111, 351, 151, 450, 430, 349,\n",
              "       438, 445, 121, 387, 333, 164, 406, 114, 154, 103,  96, 428, 461,\n",
              "       372, 467, 128, 141, 149, 105, 135, 378, 405, 522, 118, 102, 454,\n",
              "       464, 473, 410, 397, 113, 383, 381, 316, 117, 487, 493, 148, 109,\n",
              "       392,  99, 485, 395, 106, 385])"
            ]
          },
          "metadata": {},
          "execution_count": 4
        }
      ],
      "source": [
        "df_2 = df['CO2 Emissions(g/km)'].unique()\n",
        "df_2"
      ]
    },
    {
      "cell_type": "markdown",
      "metadata": {
        "id": "yQGiOHaHruA-"
      },
      "source": [
        "### BST ALGORITHM"
      ]
    },
    {
      "cell_type": "code",
      "execution_count": null,
      "metadata": {
        "id": "03yQV-H3ruA_"
      },
      "outputs": [],
      "source": [
        "class BST:\n",
        "  def __init__(self, key):\n",
        "    self.key = key\n",
        "    self.left = None\n",
        "    self.right = None\n",
        "\n",
        "  def insert(self, data):\n",
        "    if self.key is None:\n",
        "      self.key = data\n",
        "      return\n",
        "    if self.key > data:\n",
        "      if self.left:\n",
        "        self.left.insert(data)\n",
        "      else:\n",
        "        self.left = BST(data)\n",
        "    else:\n",
        "      if self.right:\n",
        "        self.right.insert(data)\n",
        "      else:\n",
        "        self.right = BST(data)\n",
        "\n",
        "  def search(self,data):\n",
        "    if self.key == data:\n",
        "      print(\"Node ditemukan\")\n",
        "      return\n",
        "    if data < self.key:\n",
        "      if self.left:\n",
        "        self.left.search(data)\n",
        "      else:\n",
        "        print('Node tidak ditemukan')\n",
        "    else:\n",
        "      if self.right:\n",
        "        self.right.search(data)\n",
        "      else:\n",
        "        print('Node tidak ditemukan')\n",
        "\n",
        "  def preorder(self):\n",
        "    print(self.key, end=' ')\n",
        "    if self.left:\n",
        "      self.left.preorder()\n",
        "    if self.right:\n",
        "      self.right.preorder()\n",
        "\n",
        "  def inorder(self):\n",
        "    if self.left:\n",
        "      self.left.inorder()\n",
        "    print(self.key, end=\" \")\n",
        "    if self.right:\n",
        "      self.right.inorder()\n",
        "\n",
        "  def postorder(self):\n",
        "    if self.left:\n",
        "      self.left.postorder()\n",
        "    if self.right:\n",
        "      self.right.postorder()\n",
        "    print(self.key, end=\" \")\n",
        "\n",
        "    \n",
        "  def delete(self,data):\n",
        "    if self.key is None:\n",
        "      print('Tree kosong')\n",
        "      return\n",
        "    if data < self.key:\n",
        "      if self.left:\n",
        "        self.left = self.left.delete(data)\n",
        "      else:\n",
        "        print(\"Node tidak ada di tree\")\n",
        "    elif data > self.key:\n",
        "      if self.right:\n",
        "        self.right = self.right.delete(data)\n",
        "      else:\n",
        "        print(\"Node tidak ada di tree\")\n",
        "    else:\n",
        "      if self.left is None:\n",
        "        temp = self.right\n",
        "        self = None\n",
        "        return temp\n",
        "      if self.right is None:\n",
        "        temp = self.left\n",
        "        self = None\n",
        "        return temp\n",
        "      node = self.right\n",
        "      while node.left:\n",
        "        node = node.left\n",
        "      self.key = node.key\n",
        "      self.right = self.right.delete(node.key)\n",
        "    return self\n",
        "\n",
        "  def min_node(self):\n",
        "    current = self\n",
        "    while current.left:\n",
        "      current = current.left\n",
        "    print('Node minimum adalah : ',current.key)\n",
        "\n",
        "  def max_node(self):\n",
        "    current = self\n",
        "    while current.right:\n",
        "      current = current.right\n",
        "    print('Node maksimum adalah : ',current.key)\n"
      ]
    },
    {
      "cell_type": "markdown",
      "source": [
        "### Implementasi BST pada sampel data"
      ],
      "metadata": {
        "id": "suglMtAp97Y1"
      }
    },
    {
      "cell_type": "code",
      "execution_count": null,
      "metadata": {
        "colab": {
          "base_uri": "https://localhost:8080/"
        },
        "id": "nwKL2V20ruA9",
        "outputId": "3417a225-ee3c-44b5-9daa-0b1ffa46d270"
      },
      "outputs": [
        {
          "output_type": "execute_result",
          "data": {
            "text/plain": [
              "[196, 221, 136, 255, 244, 230, 232, 267, 212, 225]"
            ]
          },
          "metadata": {},
          "execution_count": 6
        }
      ],
      "source": [
        "list_1 = df_2.tolist()\n",
        "data_1 = list_1[0:10]\n",
        "data_1"
      ]
    },
    {
      "cell_type": "markdown",
      "source": [
        "#### Insert Data"
      ],
      "metadata": {
        "id": "FZfPlZoE-Xd6"
      }
    },
    {
      "cell_type": "code",
      "source": [
        "root = BST(210)\n",
        "data1 = data_1\n",
        "for i in data1:\n",
        "    root.insert(i)"
      ],
      "metadata": {
        "id": "bsNtktND-KOb"
      },
      "execution_count": null,
      "outputs": []
    },
    {
      "cell_type": "markdown",
      "source": [
        "#### Penelusuran Data"
      ],
      "metadata": {
        "id": "NPHy6956-e28"
      }
    },
    {
      "cell_type": "code",
      "source": [
        "print('Preorder =',end=' ')\n",
        "root.preorder()"
      ],
      "metadata": {
        "colab": {
          "base_uri": "https://localhost:8080/"
        },
        "id": "flAxcDRL-b7N",
        "outputId": "38967c93-67e5-4567-d00d-9f5ef0f9dd3a"
      },
      "execution_count": null,
      "outputs": [
        {
          "output_type": "stream",
          "name": "stdout",
          "text": [
            "Preorder = 210 196 136 221 212 255 244 230 225 232 "
          ]
        }
      ]
    },
    {
      "cell_type": "code",
      "source": [
        "print('Inorder =',end=' ')\n",
        "root.inorder()"
      ],
      "metadata": {
        "colab": {
          "base_uri": "https://localhost:8080/"
        },
        "id": "6rj94KlJ-lC5",
        "outputId": "854808fb-d5e2-493c-eeff-79b1a450e074"
      },
      "execution_count": null,
      "outputs": [
        {
          "output_type": "stream",
          "name": "stdout",
          "text": [
            "Inorder = 136 196 210 212 221 225 230 232 244 255 "
          ]
        }
      ]
    },
    {
      "cell_type": "code",
      "source": [
        "print('Postorder =',end=' ')\n",
        "root.postorder()"
      ],
      "metadata": {
        "colab": {
          "base_uri": "https://localhost:8080/"
        },
        "id": "qr33Bze3-oPi",
        "outputId": "a3789959-0776-4d52-b249-13e69d275bba"
      },
      "execution_count": null,
      "outputs": [
        {
          "output_type": "stream",
          "name": "stdout",
          "text": [
            "Postorder = 136 196 212 225 232 230 244 255 221 210 "
          ]
        }
      ]
    },
    {
      "cell_type": "markdown",
      "source": [
        "#### Search & Insert"
      ],
      "metadata": {
        "id": "Mxzt6CY4-wJA"
      }
    },
    {
      "cell_type": "code",
      "source": [
        "root.search(112)"
      ],
      "metadata": {
        "colab": {
          "base_uri": "https://localhost:8080/"
        },
        "id": "s_OVb-pe-zqs",
        "outputId": "6aa1c906-ee43-43b6-8c18-d6a803e1384c"
      },
      "execution_count": null,
      "outputs": [
        {
          "output_type": "stream",
          "name": "stdout",
          "text": [
            "Node tidak ditemukan\n"
          ]
        }
      ]
    },
    {
      "cell_type": "code",
      "source": [
        "root.insert(112)\n",
        "root.search(112)"
      ],
      "metadata": {
        "colab": {
          "base_uri": "https://localhost:8080/"
        },
        "id": "eS6wqg9j-6ew",
        "outputId": "b0b056bc-6bab-4a10-dc72-ec64edda56d9"
      },
      "execution_count": null,
      "outputs": [
        {
          "output_type": "stream",
          "name": "stdout",
          "text": [
            "Node ditemukan\n"
          ]
        }
      ]
    },
    {
      "cell_type": "markdown",
      "source": [
        "#### Delete & Search"
      ],
      "metadata": {
        "id": "OhM07Yl7_UQs"
      }
    },
    {
      "cell_type": "code",
      "source": [
        "root.delete(267)\n",
        "root.search(267)"
      ],
      "metadata": {
        "colab": {
          "base_uri": "https://localhost:8080/"
        },
        "id": "CSEBVpNR_clO",
        "outputId": "e7ac8c31-b4b7-426f-d1a7-6506c7099696"
      },
      "execution_count": null,
      "outputs": [
        {
          "output_type": "stream",
          "name": "stdout",
          "text": [
            "Node tidak ditemukan\n"
          ]
        }
      ]
    },
    {
      "cell_type": "markdown",
      "source": [
        "#### Minimum & Maksimum"
      ],
      "metadata": {
        "id": "rhFV1kEH_hpe"
      }
    },
    {
      "cell_type": "code",
      "source": [
        "root.min_node()"
      ],
      "metadata": {
        "colab": {
          "base_uri": "https://localhost:8080/"
        },
        "id": "cVbfI6bl_lNQ",
        "outputId": "f3877883-05a8-4a52-c7e2-e2185138aaba"
      },
      "execution_count": null,
      "outputs": [
        {
          "output_type": "stream",
          "name": "stdout",
          "text": [
            "Node minimum adalah :  136\n"
          ]
        }
      ]
    },
    {
      "cell_type": "code",
      "source": [
        "root.max_node()"
      ],
      "metadata": {
        "colab": {
          "base_uri": "https://localhost:8080/"
        },
        "id": "tQ0fY4-oAMZr",
        "outputId": "42dad836-5baa-482b-a53f-b90fd34428ff"
      },
      "execution_count": null,
      "outputs": [
        {
          "output_type": "stream",
          "name": "stdout",
          "text": [
            "Node maksimum adalah :  267\n"
          ]
        }
      ]
    },
    {
      "cell_type": "markdown",
      "source": [
        "### Implementasi BST pada CO2 Emission DataSet"
      ],
      "metadata": {
        "id": "HPHf1mt6AaZX"
      }
    },
    {
      "cell_type": "markdown",
      "source": [
        "Mencari data minimum dan maksimum polusi CO2"
      ],
      "metadata": {
        "id": "D17RkV2iAp6_"
      }
    },
    {
      "cell_type": "code",
      "source": [
        "root = BST(245)\n",
        "data1 = df_2\n",
        "for i in data1:\n",
        "    root.insert(i)"
      ],
      "metadata": {
        "id": "3k1ZYo2oAjmp"
      },
      "execution_count": null,
      "outputs": []
    },
    {
      "cell_type": "markdown",
      "source": [
        "#### Minimum CO2 Emission"
      ],
      "metadata": {
        "id": "XBb18CASA6Qe"
      }
    },
    {
      "cell_type": "code",
      "source": [
        "root.min_node()"
      ],
      "metadata": {
        "colab": {
          "base_uri": "https://localhost:8080/"
        },
        "id": "SMY6pQ1qA6BU",
        "outputId": "1954b382-a31d-4148-d9f3-5a6741a33500"
      },
      "execution_count": null,
      "outputs": [
        {
          "output_type": "stream",
          "name": "stdout",
          "text": [
            "Node minimum adalah :  96\n"
          ]
        }
      ]
    },
    {
      "cell_type": "markdown",
      "source": [
        "#### Maksimum CO2 Emission"
      ],
      "metadata": {
        "id": "1Zp5BFdCBCr2"
      }
    },
    {
      "cell_type": "code",
      "source": [
        "root.max_node()"
      ],
      "metadata": {
        "colab": {
          "base_uri": "https://localhost:8080/"
        },
        "id": "V8AIemxhBF6M",
        "outputId": "7a25c82d-6811-425b-dc7e-7a9d67e18fa9"
      },
      "execution_count": null,
      "outputs": [
        {
          "output_type": "stream",
          "name": "stdout",
          "text": [
            "Node maksimum adalah :  522\n"
          ]
        }
      ]
    }
  ],
  "metadata": {
    "kernelspec": {
      "display_name": "Python 3.9.2 64-bit",
      "language": "python",
      "name": "python3"
    },
    "language_info": {
      "codemirror_mode": {
        "name": "ipython",
        "version": 3
      },
      "file_extension": ".py",
      "mimetype": "text/x-python",
      "name": "python",
      "nbconvert_exporter": "python",
      "pygments_lexer": "ipython3",
      "version": "3.9.2"
    },
    "orig_nbformat": 4,
    "vscode": {
      "interpreter": {
        "hash": "14958d3aee5f1cad06795f787e54b96185c25fb40dfec723a5be941f3a531b8c"
      }
    },
    "colab": {
      "provenance": []
    }
  },
  "nbformat": 4,
  "nbformat_minor": 0
}